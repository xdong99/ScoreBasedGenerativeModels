{
  "nbformat": 4,
  "nbformat_minor": 0,
  "metadata": {
    "colab": {
      "name": "example_hyperparameter_grid_search_KdV.ipynb",
      "provenance": [],
      "collapsed_sections": [],
      "mount_file_id": "1YkDJIrAfGjglLWsQm16_vDArPbKEWG-T",
      "authorship_tag": "ABX9TyOzkCOpn/0PlBDMEvdx0F2x",
      "include_colab_link": true
    },
    "kernelspec": {
      "name": "python3",
      "display_name": "Python 3"
    },
    "language_info": {
      "name": "python"
    },
    "accelerator": "GPU"
  },
  "cells": [
    {
      "cell_type": "markdown",
      "metadata": {
        "id": "view-in-github",
        "colab_type": "text"
      },
      "source": [
        "<a href=\"https://colab.research.google.com/github/crispitagorico/Neural-SPDEs/blob/main/examples/example_hyperparameter_grid_search.ipynb\" target=\"_parent\"><img src=\"https://colab.research.google.com/assets/colab-badge.svg\" alt=\"Open In Colab\"/></a>"
      ]
    },
    {
      "cell_type": "markdown",
      "source": [
        "<center> <h1>Stochastic Korteweg–De Vries equation</h1> </center>\n",
        "\n",
        "*The stochastic Korteweg-De Vries (KdV) equations are used to describe the propagation of nonlinear waves at the surface of a fluid subject to random perturbations.*\n",
        "\n",
        "*In this notebook we fit a Neural SPDE model to learn dynamics described by the KdV equations,*\n",
        "\\begin{align*}\n",
        "    \\partial_t u + \\gamma\\partial_x^3 u &= 6u\\partial_xu + \\xi,  \\\\\n",
        "    u(t,0) &= u(t,1),  \\nonumber\\\\\n",
        "    u(0,x) &= u_0(x), \\quad (t,x)\\in [0,T]\\times[0,1]\\,. \\nonumber\n",
        "\\end{align*}\n",
        "*and compare the performances against other models. For each model we perform a grid search over its hyperparameters using a validation set. All models are run on a GPU.*\n",
        "***"
      ],
      "metadata": {
        "id": "zhDh3Plj-jku"
      }
    },
    {
      "cell_type": "code",
      "metadata": {
        "id": "Uo4xBEJf_OER"
      },
      "source": [
        "# clone the github repository if using Google Colab"
      ],
      "execution_count": 2,
      "outputs": []
    },
    {
      "cell_type": "code",
      "metadata": {
        "id": "X0bc897O_RLN",
        "colab": {
          "base_uri": "https://localhost:8080/"
        },
        "outputId": "bcd4e6c8-27f8-4bed-b27f-d04458def19e"
      },
      "source": [
        "%cd Neural-SPDEs/"
      ],
      "execution_count": 2,
      "outputs": [
        {
          "output_type": "stream",
          "name": "stdout",
          "text": [
            "/content/Neural-SPDEs\n"
          ]
        }
      ]
    },
    {
      "cell_type": "code",
      "source": [
        "!pip install -r requirements.txt"
      ],
      "metadata": {
        "id": "knrYdNoHFWVN"
      },
      "execution_count": null,
      "outputs": []
    },
    {
      "cell_type": "code",
      "metadata": {
        "id": "1q_ivsp8Tlvl"
      },
      "source": [
        "import torch\n",
        "import scipy.io\n",
        "import numpy as np\n",
        "import matplotlib.pyplot as plt\n",
        "from tqdm.notebook import tqdm"
      ],
      "execution_count": 4,
      "outputs": []
    },
    {
      "cell_type": "code",
      "metadata": {
        "id": "DyING0iQ_yWC"
      },
      "source": [
        "import torch.optim as optim\n",
        "from utilities import *\n",
        "import warnings\n",
        "warnings.filterwarnings('ignore')\n",
        "\n",
        "device = torch.device('cuda' if torch.cuda.is_available() else 'cpu')"
      ],
      "execution_count": 5,
      "outputs": []
    },
    {
      "cell_type": "markdown",
      "metadata": {
        "id": "3pX2Ix-M-yXQ"
      },
      "source": [
        "**Load the KdV dataset**"
      ]
    },
    {
      "cell_type": "code",
      "metadata": {
        "id": "7Gu-1Pgyx4Xk"
      },
      "source": [
        "data = scipy.io.loadmat('../drive/MyDrive/data_kdv/kdv_xi_1200.mat')"
      ],
      "execution_count": 6,
      "outputs": []
    },
    {
      "cell_type": "code",
      "metadata": {
        "id": "thpe8tsjx8xp"
      },
      "source": [
        "O_X, O_T, W, Sol = data['X'], data['T'], data['W'], data['sol']"
      ],
      "execution_count": 7,
      "outputs": []
    },
    {
      "cell_type": "code",
      "source": [
        "xi = torch.from_numpy(W.astype(np.float32))\n",
        "data = torch.from_numpy(Sol.astype(np.float32))"
      ],
      "metadata": {
        "id": "7J6huLIBwXGn"
      },
      "execution_count": 8,
      "outputs": []
    },
    {
      "cell_type": "markdown",
      "metadata": {
        "id": "FTteH1Cn-rqh"
      },
      "source": [
        "# 1) Neural SPDE\n",
        "***"
      ]
    },
    {
      "cell_type": "code",
      "source": [
        "from torchspde.neural_spde import *"
      ],
      "metadata": {
        "id": "oAXbwIIX12v3"
      },
      "execution_count": 8,
      "outputs": []
    },
    {
      "cell_type": "code",
      "source": [
        "print('Number of train, val and test instances: {}, {}, {}'.format(0.70*1200, 0.15*1200, 0.15*1200))"
      ],
      "metadata": {
        "colab": {
          "base_uri": "https://localhost:8080/"
        },
        "id": "Z0-wAnkCQCSH",
        "outputId": "0414955c-194f-4240-db61-70d05de313f9"
      },
      "execution_count": 9,
      "outputs": [
        {
          "output_type": "stream",
          "name": "stdout",
          "text": [
            "Number of train, val and test instances: 840.0, 180.0, 180.0\n"
          ]
        }
      ]
    },
    {
      "cell_type": "code",
      "source": [
        "dir = '../drive/MyDrive/data_kdv/' # directory where results are saved\n",
        "\n",
        "T, sub_t = 50, 1  # number of time steps to predict\n",
        "\n",
        "filename = 'nspde_example_kdv_{}_{}'.format(str(T),str(sub_t))\n",
        "\n",
        "train_nb, val_nb, test_nb = 840, 180, 180\n",
        "\n",
        "_, test_dl = dataloader_nspde_1d(u=data, xi=xi, ntrain=train_nb+val_nb, \n",
        "                                 ntest=test_nb, T=T, sub_t=sub_t, \n",
        "                                 batch_size=20, dim_x=128)\n",
        "\n",
        "train_dl, val_dl = dataloader_nspde_1d(u=data[:train_nb+val_nb], xi=xi[:train_nb+val_nb], \n",
        "                                       ntrain=train_nb, ntest=val_nb, T=T, sub_t=sub_t, \n",
        "                                       batch_size=20, dim_x=128)\n",
        "\n",
        "hyperparameter_search_nspde(train_dl, val_dl, test_dl, \n",
        "                            d_h=[32], iter=[1,2,3,4], modes1=[32, 64], modes2=[32,50],\n",
        "                            epochs=500, print_every=20, plateau_patience=50, \n",
        "                            plateau_terminate=100, log_file=dir+'log_'+filename+'.csv',\n",
        "                            checkpoint_file=dir+'checkpoint_'+filename+'.pt', \n",
        "                            final_checkpoint_file=dir+'best_'+filename+'.pt')"
      ],
      "metadata": {
        "id": "Egy9f_CH4JoH"
      },
      "execution_count": null,
      "outputs": []
    },
    {
      "cell_type": "markdown",
      "metadata": {
        "id": "Q0_jmj60HpNw"
      },
      "source": [
        "# 2) FNO\n",
        "***"
      ]
    },
    {
      "cell_type": "code",
      "metadata": {
        "id": "1Brb_By8IV-x"
      },
      "source": [
        "from baselines.FNO1D import *"
      ],
      "execution_count": 11,
      "outputs": []
    },
    {
      "cell_type": "code",
      "source": [
        "dir = '../drive/MyDrive/data_kdv/' # directory where results are saved\n",
        "\n",
        "T, sub_t = 50, 1  # number of time steps to predict\n",
        "\n",
        "filename = 'fno_example_kdv_{}_{}'.format(str(T),str(sub_t))\n",
        "\n",
        "train_nb, val_nb, test_nb = 840, 180, 180\n",
        "\n",
        "_, test_dl = dataloader_fno_1d_xi(u=data, xi=xi, ntrain=train_nb+val_nb, \n",
        "                                  ntest=test_nb, T=T, sub_t=sub_t, \n",
        "                                  batch_size=20, dim_x=128)\n",
        "\n",
        "train_dl, val_dl = dataloader_fno_1d_xi(u=data[:train_nb+val_nb], xi=xi[:train_nb+val_nb], \n",
        "                                        ntrain=train_nb, ntest=val_nb, T=T, sub_t=sub_t, \n",
        "                                        batch_size=20, dim_x=128)\n",
        "\n",
        "hyperparameter_search_fno1d(train_dl, val_dl, test_dl, T=50, \n",
        "                            d_h=[32], iter=[1,2,3,4], modes1=[16, 32], modes2=[16,25],  \n",
        "                            lr=0.0025, epochs=500, print_every=20, plateau_patience=50, \n",
        "                            plateau_terminate=100, log_file=dir+'log_'+filename+'.csv',\n",
        "                            checkpoint_file=dir+'checkpoint_'+filename+'.pt', \n",
        "                            final_checkpoint_file=dir+'best_'+filename+'.pt')"
      ],
      "metadata": {
        "id": "wwm2PLClDtKd"
      },
      "execution_count": null,
      "outputs": []
    },
    {
      "cell_type": "markdown",
      "metadata": {
        "id": "hqQnMsvoalrd"
      },
      "source": [
        "# 3) NCDE\n",
        "***"
      ]
    },
    {
      "cell_type": "code",
      "metadata": {
        "id": "pOgEaME6Pqwk"
      },
      "source": [
        "from baselines.NCDE import *"
      ],
      "execution_count": 13,
      "outputs": []
    },
    {
      "cell_type": "code",
      "source": [
        "dir = '../drive/MyDrive/data_kdv/' # directory where results are saved\n",
        "\n",
        "T, sub_t = 50, 1  # number of time steps to predict\n",
        "\n",
        "filename = 'ncde_example_kdv_{}_{}'.format(str(T),str(sub_t))\n",
        "\n",
        "train_nb, val_nb, test_nb = 840, 180, 180\n",
        "\n",
        "dim_x = 128\n",
        "\n",
        "_, test_dl, norm = dataloader_ncde_1d(u=data, xi=xi, ntrain=train_nb+val_nb, \n",
        "                                      ntest=test_nb, T=T, sub_t=sub_t, normalizer=True,\n",
        "                                      batch_size=20, dim_x=dim_x, interpolation='linear')\n",
        "\n",
        "train_dl, val_dl, norm = dataloader_ncde_1d(u=data[:train_nb+val_nb], xi=xi[:train_nb+val_nb], \n",
        "                                            ntrain=train_nb, ntest=val_nb, T=T, sub_t=sub_t, normalizer=True,\n",
        "                                            batch_size=20, dim_x=dim_x, interpolation='linear')\n",
        "\n",
        "hyperparameter_search_ncde(train_dl, val_dl, test_dl, dim_x, norm,\n",
        "                           d_h=[8,16,32], solver=['euler', 'rk4'], lr=0.0025,\n",
        "                           epochs=1000, print_every=20, plateau_patience=50, \n",
        "                           plateau_terminate=100, log_file=dir+'log_'+filename+'.csv',\n",
        "                           checkpoint_file=dir+'checkpoint_'+filename+'.pt', \n",
        "                           final_checkpoint_file=dir+'best_'+filename+'.pt')"
      ],
      "metadata": {
        "id": "BgPDsGXia8Sk"
      },
      "execution_count": null,
      "outputs": []
    },
    {
      "cell_type": "markdown",
      "metadata": {
        "id": "0BmNjo-sKM-Z"
      },
      "source": [
        "# 4) NRDE\n",
        "***"
      ]
    },
    {
      "cell_type": "code",
      "source": [
        "# if using the NRDE model, one should install signatory\n",
        "# !pip install signatory  # version 1.2.6.1.9.0 was installed"
      ],
      "metadata": {
        "id": "UMgNjjIgn1U4"
      },
      "execution_count": null,
      "outputs": []
    },
    {
      "cell_type": "code",
      "metadata": {
        "id": "jsqGjCcxKNRP"
      },
      "source": [
        "from baselines.NRDE import *"
      ],
      "execution_count": 9,
      "outputs": []
    },
    {
      "cell_type": "code",
      "metadata": {
        "id": "c0nILQfLL5Jk"
      },
      "source": [
        "import signatory"
      ],
      "execution_count": 10,
      "outputs": []
    },
    {
      "cell_type": "markdown",
      "source": [
        "**Get the dataloaders**"
      ],
      "metadata": {
        "id": "1cRXW2ylDGI9"
      }
    },
    {
      "cell_type": "code",
      "source": [
        "dir = '../drive/MyDrive/data_kdv/'\n",
        "\n",
        "T, sub_t = 50, 1  # number of time steps to predict\n",
        "\n",
        "filename = 'nrde_example_kdv_{}_{}'.format(str(T),str(sub_t))\n",
        "\n",
        "train_nb, val_nb, test_nb = 840, 180, 180\n",
        "\n",
        "dim_x = 128\n",
        "\n",
        "_, test_dl, I, noise_dim, norm = dataloader_nrde_1d(u=data, xi=xi, ntrain=train_nb+val_nb, \n",
        "                                                    ntest=test_nb, T=T, sub_t=sub_t, normalizer=None,\n",
        "                                                    depth=2, window_length=3, \n",
        "                                                    batch_size=20, dim_x=dim_x, interpolation='linear')\n",
        "\n",
        "train_dl, val_dl, I, noise_dim, norm = dataloader_nrde_1d(u=data[:train_nb+val_nb], xi=xi[:train_nb+val_nb], \n",
        "                                                          depth=2, window_length=3, \n",
        "                                                          ntrain=train_nb, ntest=val_nb, \n",
        "                                                          T=T, sub_t=sub_t, normalizer=None,\n",
        "                                                          batch_size=20, dim_x=dim_x, interpolation='linear')\n",
        "\n",
        "\n",
        "hyperparameter_search_nrde(train_dl, val_dl, test_dl, noise_dim, I, dim_x, norm,\n",
        "                           d_h=[8,16,32], solver=['euler', 'rk4'],lr=0.001,\n",
        "                           epochs=1000, print_every=20, plateau_patience=50, \n",
        "                           plateau_terminate=100, log_file=dir+'log_'+filename+'.csv',\n",
        "                           checkpoint_file=dir+'checkpoint_'+filename+'.pt', \n",
        "                           final_checkpoint_file=dir+'best_'+filename+'.pt')"
      ],
      "metadata": {
        "id": "qNxqAPhxbz0v"
      },
      "execution_count": null,
      "outputs": []
    },
    {
      "cell_type": "markdown",
      "metadata": {
        "id": "ZlnGq712cEK3"
      },
      "source": [
        "# 5) NCDE-FNO\n",
        "***"
      ]
    },
    {
      "cell_type": "code",
      "metadata": {
        "id": "kahPuu-VsXOT"
      },
      "source": [
        "from baselines.NCDEFNO_1D import *"
      ],
      "execution_count": 15,
      "outputs": []
    },
    {
      "cell_type": "code",
      "source": [
        "dir = '../drive/MyDrive/data_kdv/'\n",
        "\n",
        "T, sub_t = 50, 1  # number of time steps to predict\n",
        "\n",
        "filename = 'ncdefno_example_kdv_{}_{}'.format(str(T),str(sub_t))\n",
        "\n",
        "train_nb, val_nb, test_nb = 840, 180, 180\n",
        "\n",
        "_, test_dl = dataloader_ncdeinf_1d(u=data, xi=xi, ntrain=train_nb+val_nb, \n",
        "                                   ntest=test_nb, T=T, sub_t=sub_t, \n",
        "                                   batch_size=20, dim_x=128, interpolation='linear')\n",
        "\n",
        "train_dl, val_dl = dataloader_ncdeinf_1d(u=data[:train_nb+val_nb], xi=xi[:train_nb+val_nb], \n",
        "                                         ntrain=train_nb, ntest=val_nb, T=T, sub_t=sub_t, \n",
        "                                         batch_size=20, dim_x=128, interpolation='linear')\n",
        "\n",
        "hyperparameter_search_ncdefno_1d(train_dl, val_dl, test_dl,\n",
        "                                 d_h=[8,16,32], solver=['euler', 'rk4'], lr=0.0025, \n",
        "                                 epochs=500, print_every=20, plateau_patience=50, \n",
        "                                 plateau_terminate=100, log_file=dir+'log_'+filename+'.csv',\n",
        "                                 checkpoint_file=dir+'checkpoint_'+filename+'.pt', \n",
        "                                 final_checkpoint_file=dir+'best_'+filename+'.pt')"
      ],
      "metadata": {
        "id": "T4Fn3JjSZd8S"
      },
      "execution_count": null,
      "outputs": []
    },
    {
      "cell_type": "markdown",
      "metadata": {
        "id": "ElwqsKPPfoG8"
      },
      "source": [
        "# 6) DeepONet\n",
        "***"
      ]
    },
    {
      "cell_type": "code",
      "source": [
        "from baselines.deepOnet import *"
      ],
      "metadata": {
        "id": "hk_9VvoaA2MD"
      },
      "execution_count": 17,
      "outputs": []
    },
    {
      "cell_type": "code",
      "source": [
        "dir = '../drive/MyDrive/data_kdv/'\n",
        "\n",
        "T, sub_t = 50, 1  # number of time steps to predict\n",
        "\n",
        "filename = 'deeponet_example_kdv_{}_{}'.format(str(T),str(sub_t))\n",
        "\n",
        "train_nb, val_nb, test_nb = 840, 180, 180\n",
        "\n",
        "_, test_dl, norm, grid = dataloader_deeponet_1d_xi(u=data, xi=xi, ntrain=train_nb+val_nb, \n",
        "                                                   ntest=test_nb, T=T, sub_t=sub_t, \n",
        "                                                   batch_size=20, dim_x=128, normalizer=True)\n",
        "\n",
        "train_dl, val_dl, norm, grid = dataloader_deeponet_1d_xi(u=data[:train_nb+val_nb], xi=xi[:train_nb+val_nb], ntrain=train_nb, ntest=val_nb, T=T, sub_t=sub_t, \n",
        "                                                         batch_size=20, dim_x=128, normalizer=True)\n",
        "\n",
        "hyperparameter_search_deeponet(train_dl, val_dl, test_dl, dim_x*(T-1), grid, norm, \n",
        "                               width=[128,256,512], branch_depth=[2,3,4], trunk_depth=[2,3,4],\n",
        "                               lr=0.0025, epochs=500, print_every=20, plateau_patience=50, \n",
        "                               plateau_terminate=100, log_file=dir+'log_'+filename+'.csv',\n",
        "                               checkpoint_file=dir+'checkpoint_'+filename+'.pt', \n",
        "                               final_checkpoint_file=dir+'best_'+filename+'.pt')"
      ],
      "metadata": {
        "id": "9gzXXe8VN0Se"
      },
      "execution_count": null,
      "outputs": []
    }
  ]
}