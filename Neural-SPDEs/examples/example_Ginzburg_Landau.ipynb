{
  "nbformat": 4,
  "nbformat_minor": 0,
  "metadata": {
    "colab": {
      "name": "Parabolic.ipynb",
      "provenance": [],
      "collapsed_sections": [],
      "machine_shape": "hm",
      "mount_file_id": "https://github.com/crispitagorico/Neural-SPDEs/blob/main/examples/draft_Parabolic.ipynb",
      "authorship_tag": "ABX9TyOConUBgeMq6wfzk8wSL8Zy",
      "include_colab_link": true
    },
    "kernelspec": {
      "name": "python3",
      "display_name": "Python 3"
    },
    "language_info": {
      "name": "python"
    },
    "accelerator": "GPU"
  },
  "cells": [
    {
      "cell_type": "markdown",
      "metadata": {
        "id": "view-in-github",
        "colab_type": "text"
      },
      "source": [
        "<a href=\"https://colab.research.google.com/github/crispitagorico/Neural-SPDEs/blob/main/examples/example_Ginzburg_Landau.ipynb\" target=\"_parent\"><img src=\"https://colab.research.google.com/assets/colab-badge.svg\" alt=\"Open In Colab\"/></a>"
      ]
    },
    {
      "cell_type": "markdown",
      "source": [
        "<center> <h1> Stochastic Ginzburg-Landau Equation</h1> </center>\n",
        "\n",
        "*The Stochastic Ginzburg-Landau equation is also known as the Allen-Cahn equation in 1-dimension and is used for modeling various physical phenomena like superconductivity.*\n",
        "\n",
        "*In this notebook we demonstrate that the Neural SPDE model is capable of learning dynamics described by the Stochastic Ginzburg-Landau equation,*\n",
        "\\begin{align*}\n",
        "    \\partial_t u - \\Delta u &= 3u -u^3 + \\xi,  \\\\\n",
        "    u(t,0) &= u(t,1),  \\nonumber\\\\\n",
        "    u(0,x) &= u_0(x), \\quad (t,x)\\in [0,T]\\times[0,1] \\nonumber\n",
        "\\end{align*}\n",
        "*with better accuracy and using only a modest amount of training data compared to all alternative models.*\n",
        "***"
      ],
      "metadata": {
        "id": "zhDh3Plj-jku"
      }
    },
    {
      "cell_type": "code",
      "metadata": {
        "id": "Uo4xBEJf_OER"
      },
      "source": [
        "# clone the github repository if using Google Colab"
      ],
      "execution_count": null,
      "outputs": []
    },
    {
      "cell_type": "code",
      "metadata": {
        "id": "X0bc897O_RLN"
      },
      "source": [
        "%cd Neural-SPDEs/"
      ],
      "execution_count": null,
      "outputs": []
    },
    {
      "cell_type": "code",
      "source": [
        "!pip install -r requirements.txt"
      ],
      "metadata": {
        "id": "knrYdNoHFWVN"
      },
      "execution_count": null,
      "outputs": []
    },
    {
      "cell_type": "code",
      "metadata": {
        "id": "1q_ivsp8Tlvl"
      },
      "source": [
        "import torch\n",
        "import scipy.io\n",
        "import numpy as np\n",
        "import pandas as pd\n",
        "import matplotlib.pyplot as plt\n",
        "from tqdm.notebook import tqdm\n",
        "from timeit import default_timer"
      ],
      "execution_count": 4,
      "outputs": []
    },
    {
      "cell_type": "code",
      "source": [
        "import warnings\n",
        "import torch.optim as optim\n",
        "from utilities import *\n",
        "warnings.filterwarnings('ignore')\n",
        "\n",
        "device = torch.device('cuda' if torch.cuda.is_available() else 'cpu')"
      ],
      "metadata": {
        "id": "vxkzWU-v20me"
      },
      "execution_count": 9,
      "outputs": []
    },
    {
      "cell_type": "markdown",
      "source": [
        "The two cells below are for the format of the figures. "
      ],
      "metadata": {
        "id": "3MFp9HSn2WpQ"
      }
    },
    {
      "cell_type": "code",
      "metadata": {
        "id": "nnIiiDF2Dbwv"
      },
      "source": [
        "# # To avoid type 3 figures. This may take a long time\n",
        "# !sudo apt install texlive texlive-latex-extra texlive-fonts-recommended dvipng\n",
        "# !pip install latex\n",
        "# !sudo apt install cm-super"
      ],
      "execution_count": null,
      "outputs": []
    },
    {
      "cell_type": "code",
      "source": [
        "# # Using seaborn's style\n",
        "# plt.style.use('seaborn-colorblind')\n",
        "# width = 345\n",
        "# tex_fonts = {\n",
        "#     \"text.usetex\": True,\n",
        "#     \"font.family\": \"serif\",\n",
        "#     \"axes.labelsize\": 24,\n",
        "#     \"font.size\": 24,\n",
        "#     \"legend.fontsize\": 24,\n",
        "#     \"xtick.labelsize\": 24,\n",
        "#     \"ytick.labelsize\": 24,\n",
        "# }\n",
        "# plt.rcParams.update(tex_fonts)"
      ],
      "metadata": {
        "id": "KFTt6_9Ew9Y-"
      },
      "execution_count": null,
      "outputs": []
    },
    {
      "cell_type": "markdown",
      "metadata": {
        "id": "3pX2Ix-M-yXQ"
      },
      "source": [
        "**Load a dataset**"
      ]
    },
    {
      "cell_type": "code",
      "metadata": {
        "id": "7Gu-1Pgyx4Xk"
      },
      "source": [
        "data = scipy.io.loadmat('../drive/MyDrive/data_phi41+/Phi41+_u0_xi_{}.mat'.format(1200))"
      ],
      "execution_count": 6,
      "outputs": []
    },
    {
      "cell_type": "code",
      "source": [
        "# data = scipy.io.loadmat('../drive/MyDrive/data_phi41+/Phi41+_xi_{}.mat'.format(1200))"
      ],
      "metadata": {
        "id": "GZT3w_zjHhSN"
      },
      "execution_count": null,
      "outputs": []
    },
    {
      "cell_type": "markdown",
      "source": [
        "The data has been saved in the following format\n",
        "\n",
        "* $O_X[j]=x_j$, \n",
        "* $O_T[k]=t_k$\n",
        "* $W[i,j,k]=\\xi^i(x_j,t_k), \\qquad i=1,\\ldots,N_\\text{train}+N_\\text{test}$\n",
        "* $Sol[i,j,k]=u^i(x_j,t_k), \\qquad i=1,\\ldots,N_\\text{train}+N_\\text{test}$\n",
        "\n"
      ],
      "metadata": {
        "id": "wq-gmNiX0H-z"
      }
    },
    {
      "cell_type": "code",
      "metadata": {
        "id": "thpe8tsjx8xp"
      },
      "source": [
        "O_X, O_T, W, Sol = data['X'], data['T'], data['W'], data['sol']"
      ],
      "execution_count": 7,
      "outputs": []
    },
    {
      "cell_type": "code",
      "source": [
        "xi = torch.from_numpy(W.astype(np.float32))\n",
        "data = torch.from_numpy(Sol.astype(np.float32))"
      ],
      "metadata": {
        "id": "7J6huLIBwXGn"
      },
      "execution_count": 8,
      "outputs": []
    },
    {
      "cell_type": "markdown",
      "metadata": {
        "id": "FTteH1Cn-rqh"
      },
      "source": [
        "# 1) Neural SPDE demo\n",
        "***"
      ]
    },
    {
      "cell_type": "code",
      "source": [
        "from torchspde.neural_spde import *"
      ],
      "metadata": {
        "id": "mU2mU2542vN-"
      },
      "execution_count": 10,
      "outputs": []
    },
    {
      "cell_type": "markdown",
      "source": [
        "**Get the dataloaders**\n",
        "\n",
        "Specifying `dataset='phi41'` overrides $T$ and $sub_t$"
      ],
      "metadata": {
        "id": "_Nilj1XsxEcu"
      }
    },
    {
      "cell_type": "code",
      "source": [
        "train_loader, test_loader = dataloader_nspde_1d(u=data, xi=xi, ntrain=1000, \n",
        "                                                ntest=200, T=51, sub_t=1, \n",
        "                                                batch_size=20, dim_x=128, \n",
        "                                                dataset='phi41')"
      ],
      "metadata": {
        "id": "188E_MinNLKu"
      },
      "execution_count": 11,
      "outputs": []
    },
    {
      "cell_type": "markdown",
      "source": [
        "**Define an NSPDE model**"
      ],
      "metadata": {
        "id": "FyCeu-noRPBw"
      }
    },
    {
      "cell_type": "code",
      "source": [
        "model = NeuralSPDE(dim=1, in_channels=1, noise_channels=1, hidden_channels=16, \n",
        "                   n_iter=4, modes1=32, modes2=32).cuda()"
      ],
      "metadata": {
        "id": "PRU5IoTEOJJj"
      },
      "execution_count": null,
      "outputs": []
    },
    {
      "cell_type": "code",
      "source": [
        "print('The model has {} parameters'. format(count_params(model)))"
      ],
      "metadata": {
        "colab": {
          "base_uri": "https://localhost:8080/"
        },
        "id": "_DcqduHzRFZ5",
        "outputId": "39e14aad-0f73-4e01-82b1-6f9af9d941b2"
      },
      "execution_count": null,
      "outputs": [
        {
          "output_type": "stream",
          "name": "stdout",
          "text": [
            "The model has 265089 parameters\n"
          ]
        }
      ]
    },
    {
      "cell_type": "markdown",
      "source": [
        "**Train the NSPDE model**"
      ],
      "metadata": {
        "id": "bmq-njZDRTFm"
      }
    },
    {
      "cell_type": "code",
      "source": [
        "loss = LpLoss(size_average=False)"
      ],
      "metadata": {
        "id": "s6sbMwP1OUPz"
      },
      "execution_count": null,
      "outputs": []
    },
    {
      "cell_type": "code",
      "source": [
        "model, losses_train, losses_test = train_nspde_1d(model, train_loader, test_loader, \n",
        "                                                  device, loss, batch_size=20, epochs=5000, \n",
        "                                                  learning_rate=0.025, scheduler_step=100, \n",
        "                                                  scheduler_gamma=0.5, print_every=5)"
      ],
      "metadata": {
        "colab": {
          "base_uri": "https://localhost:8080/"
        },
        "id": "hex8Cr9hOAQA",
        "outputId": "4d4796bb-67cf-4dda-9034-f82fb050fd11"
      },
      "execution_count": null,
      "outputs": [
        {
          "output_type": "stream",
          "name": "stdout",
          "text": [
            "Epoch 0000 | Total Train Loss 0.293192 | Total Test Loss 0.115780\n",
            "Epoch 0005 | Total Train Loss 0.077225 | Total Test Loss 0.051700\n",
            "Epoch 0010 | Total Train Loss 0.061719 | Total Test Loss 0.060662\n",
            "Epoch 0015 | Total Train Loss 0.053639 | Total Test Loss 0.055151\n",
            "Epoch 0020 | Total Train Loss 0.055901 | Total Test Loss 0.057288\n",
            "Epoch 0025 | Total Train Loss 0.050813 | Total Test Loss 0.041213\n",
            "Epoch 0030 | Total Train Loss 0.047613 | Total Test Loss 0.037498\n",
            "Epoch 0035 | Total Train Loss 0.048238 | Total Test Loss 0.042166\n",
            "Epoch 0040 | Total Train Loss 0.049441 | Total Test Loss 0.037886\n",
            "Epoch 0045 | Total Train Loss 0.039971 | Total Test Loss 0.034018\n",
            "Epoch 0050 | Total Train Loss 0.045484 | Total Test Loss 0.034856\n",
            "Epoch 0055 | Total Train Loss 0.037293 | Total Test Loss 0.041168\n",
            "Epoch 0060 | Total Train Loss 0.053926 | Total Test Loss 0.057077\n",
            "Epoch 0065 | Total Train Loss 0.034342 | Total Test Loss 0.032346\n",
            "Epoch 0070 | Total Train Loss 0.037811 | Total Test Loss 0.045189\n",
            "Epoch 0075 | Total Train Loss 0.040232 | Total Test Loss 0.061524\n",
            "Epoch 0080 | Total Train Loss 0.046025 | Total Test Loss 0.043408\n",
            "Epoch 0085 | Total Train Loss 0.041350 | Total Test Loss 0.034533\n",
            "Epoch 0090 | Total Train Loss 0.050182 | Total Test Loss 0.038496\n",
            "Epoch 0095 | Total Train Loss 0.040411 | Total Test Loss 0.054937\n",
            "Epoch 0100 | Total Train Loss 0.037546 | Total Test Loss 0.030255\n",
            "Epoch 0105 | Total Train Loss 0.041988 | Total Test Loss 0.045597\n",
            "Epoch 0110 | Total Train Loss 0.028575 | Total Test Loss 0.046276\n",
            "Epoch 0115 | Total Train Loss 0.035384 | Total Test Loss 0.027841\n",
            "Epoch 0120 | Total Train Loss 0.028655 | Total Test Loss 0.032176\n",
            "Epoch 0125 | Total Train Loss 0.033351 | Total Test Loss 0.044280\n",
            "Epoch 0130 | Total Train Loss 0.029846 | Total Test Loss 0.027583\n",
            "Epoch 0135 | Total Train Loss 0.026568 | Total Test Loss 0.026574\n",
            "Epoch 0140 | Total Train Loss 0.033670 | Total Test Loss 0.032548\n",
            "Epoch 0145 | Total Train Loss 0.033881 | Total Test Loss 0.029219\n",
            "Epoch 0150 | Total Train Loss 0.027421 | Total Test Loss 0.026324\n",
            "Epoch 0155 | Total Train Loss 0.026946 | Total Test Loss 0.022322\n",
            "Epoch 0160 | Total Train Loss 0.024060 | Total Test Loss 0.020943\n",
            "Epoch 0165 | Total Train Loss 0.025443 | Total Test Loss 0.021623\n",
            "Epoch 0170 | Total Train Loss 0.024534 | Total Test Loss 0.026502\n",
            "Epoch 0175 | Total Train Loss 0.028610 | Total Test Loss 0.029299\n",
            "Epoch 0180 | Total Train Loss 0.023482 | Total Test Loss 0.025032\n",
            "Epoch 0185 | Total Train Loss 0.026612 | Total Test Loss 0.021691\n",
            "Epoch 0190 | Total Train Loss 0.020075 | Total Test Loss 0.018124\n",
            "Epoch 0195 | Total Train Loss 0.022610 | Total Test Loss 0.021213\n",
            "Epoch 0200 | Total Train Loss 0.018346 | Total Test Loss 0.015814\n",
            "Epoch 0205 | Total Train Loss 0.014865 | Total Test Loss 0.015483\n",
            "Epoch 0210 | Total Train Loss 0.016060 | Total Test Loss 0.015266\n",
            "Epoch 0215 | Total Train Loss 0.015451 | Total Test Loss 0.018100\n",
            "Epoch 0220 | Total Train Loss 0.015932 | Total Test Loss 0.014766\n",
            "Epoch 0225 | Total Train Loss 0.014899 | Total Test Loss 0.016898\n",
            "Epoch 0230 | Total Train Loss 0.013575 | Total Test Loss 0.013870\n",
            "Epoch 0235 | Total Train Loss 0.014508 | Total Test Loss 0.014878\n",
            "Epoch 0240 | Total Train Loss 0.013497 | Total Test Loss 0.013250\n",
            "Epoch 0245 | Total Train Loss 0.013954 | Total Test Loss 0.013111\n",
            "Epoch 0250 | Total Train Loss 0.013414 | Total Test Loss 0.013553\n",
            "Epoch 0255 | Total Train Loss 0.013324 | Total Test Loss 0.011624\n",
            "Epoch 0260 | Total Train Loss 0.014334 | Total Test Loss 0.013651\n",
            "Epoch 0265 | Total Train Loss 0.014178 | Total Test Loss 0.011547\n",
            "Epoch 0270 | Total Train Loss 0.012770 | Total Test Loss 0.013145\n",
            "Epoch 0275 | Total Train Loss 0.013219 | Total Test Loss 0.012916\n",
            "Epoch 0280 | Total Train Loss 0.013049 | Total Test Loss 0.014962\n",
            "Epoch 0285 | Total Train Loss 0.014093 | Total Test Loss 0.014878\n",
            "Epoch 0290 | Total Train Loss 0.011155 | Total Test Loss 0.011976\n",
            "Epoch 0295 | Total Train Loss 0.012282 | Total Test Loss 0.011896\n",
            "Epoch 0300 | Total Train Loss 0.009898 | Total Test Loss 0.008864\n",
            "Epoch 0305 | Total Train Loss 0.008752 | Total Test Loss 0.008513\n",
            "Epoch 0310 | Total Train Loss 0.008579 | Total Test Loss 0.008519\n",
            "Epoch 0315 | Total Train Loss 0.008539 | Total Test Loss 0.008937\n",
            "Epoch 0320 | Total Train Loss 0.008979 | Total Test Loss 0.011737\n",
            "Epoch 0325 | Total Train Loss 0.008376 | Total Test Loss 0.009213\n",
            "Epoch 0330 | Total Train Loss 0.009974 | Total Test Loss 0.008382\n",
            "Epoch 0335 | Total Train Loss 0.008310 | Total Test Loss 0.007664\n",
            "Epoch 0340 | Total Train Loss 0.008313 | Total Test Loss 0.008385\n",
            "Epoch 0345 | Total Train Loss 0.008473 | Total Test Loss 0.009144\n",
            "Epoch 0350 | Total Train Loss 0.008956 | Total Test Loss 0.008565\n",
            "Epoch 0355 | Total Train Loss 0.007993 | Total Test Loss 0.007673\n",
            "Epoch 0360 | Total Train Loss 0.008190 | Total Test Loss 0.008784\n",
            "Epoch 0365 | Total Train Loss 0.009275 | Total Test Loss 0.008658\n",
            "Epoch 0370 | Total Train Loss 0.008459 | Total Test Loss 0.008035\n",
            "Epoch 0375 | Total Train Loss 0.008438 | Total Test Loss 0.009796\n",
            "Epoch 0380 | Total Train Loss 0.008425 | Total Test Loss 0.009295\n",
            "Epoch 0385 | Total Train Loss 0.007711 | Total Test Loss 0.007440\n",
            "Epoch 0390 | Total Train Loss 0.008137 | Total Test Loss 0.007398\n",
            "Epoch 0395 | Total Train Loss 0.008451 | Total Test Loss 0.009424\n",
            "Epoch 0400 | Total Train Loss 0.007233 | Total Test Loss 0.006950\n",
            "Epoch 0405 | Total Train Loss 0.006756 | Total Test Loss 0.006870\n",
            "Epoch 0410 | Total Train Loss 0.006858 | Total Test Loss 0.006877\n",
            "Epoch 0415 | Total Train Loss 0.006820 | Total Test Loss 0.007080\n",
            "Epoch 0420 | Total Train Loss 0.006851 | Total Test Loss 0.006840\n",
            "Epoch 0425 | Total Train Loss 0.006753 | Total Test Loss 0.006691\n",
            "Epoch 0430 | Total Train Loss 0.006732 | Total Test Loss 0.006843\n",
            "Epoch 0435 | Total Train Loss 0.006696 | Total Test Loss 0.007033\n",
            "Epoch 0440 | Total Train Loss 0.007019 | Total Test Loss 0.007099\n",
            "Epoch 0445 | Total Train Loss 0.006815 | Total Test Loss 0.006955\n",
            "Epoch 0450 | Total Train Loss 0.006713 | Total Test Loss 0.006889\n",
            "Epoch 0455 | Total Train Loss 0.006757 | Total Test Loss 0.006736\n",
            "Epoch 0460 | Total Train Loss 0.006811 | Total Test Loss 0.006905\n",
            "Epoch 0465 | Total Train Loss 0.006800 | Total Test Loss 0.007211\n",
            "Epoch 0470 | Total Train Loss 0.006691 | Total Test Loss 0.006542\n",
            "Epoch 0475 | Total Train Loss 0.006675 | Total Test Loss 0.006791\n",
            "Epoch 0480 | Total Train Loss 0.006770 | Total Test Loss 0.006695\n",
            "Epoch 0485 | Total Train Loss 0.006821 | Total Test Loss 0.006561\n",
            "Epoch 0490 | Total Train Loss 0.006681 | Total Test Loss 0.006801\n",
            "Epoch 0495 | Total Train Loss 0.006620 | Total Test Loss 0.006640\n",
            "Epoch 0500 | Total Train Loss 0.006323 | Total Test Loss 0.006189\n"
          ]
        }
      ]
    },
    {
      "cell_type": "code",
      "source": [
        "# torch.save(model.state_dict(), '../drive/MyDrive/data_phi41+/nspde_u0_xi_1200.pth')"
      ],
      "metadata": {
        "id": "6W2_vmk8XlDi"
      },
      "execution_count": null,
      "outputs": []
    },
    {
      "cell_type": "code",
      "source": [
        "plt.plot(np.arange(1,len(losses_train)*5, 5), losses_train, label='train')\n",
        "plt.plot(np.arange(1,len(losses_test)*5, 5), losses_test, label='test')\n",
        "plt.xlabel('Epoch')\n",
        "plt.ylabel('Relative L2 loss')\n",
        "plt.legend()\n",
        "plt.show()"
      ],
      "metadata": {
        "colab": {
          "base_uri": "https://localhost:8080/",
          "height": 279
        },
        "id": "rHHZ_62TPhKl",
        "outputId": "dd51fb39-2000-47cf-f5f4-b6fb90edda9b"
      },
      "execution_count": null,
      "outputs": [
        {
          "output_type": "display_data",
          "data": {
            "image/png": "[encoded data removed]",
            "text/plain": [
              "<Figure size 432x288 with 1 Axes>"
            ]
          },
          "metadata": {
            "needs_background": "light"
          }
        }
      ]
    },
    {
      "cell_type": "markdown",
      "source": [
        "**Visualize predictions**"
      ],
      "metadata": {
        "id": "Omaau1fHx_gl"
      }
    },
    {
      "cell_type": "code",
      "source": [
        "from utilities import plot_1d, contour_plot_1d"
      ],
      "metadata": {
        "id": "BcqCDsfKKzEe"
      },
      "execution_count": null,
      "outputs": []
    },
    {
      "cell_type": "code",
      "source": [
        "plot_1d(model, test_loader, device, i=1, T_=5, T=51, a=1)"
      ],
      "metadata": {
        "id": "iseTSTOOx-Rx"
      },
      "execution_count": null,
      "outputs": []
    },
    {
      "cell_type": "code",
      "source": [
        "contour_plot_1d(model, test_loader, device, O_X[0,:-1], O_T[0,:51])"
      ],
      "metadata": {
        "id": "4U0Sr-J0InjF"
      },
      "execution_count": null,
      "outputs": []
    },
    {
      "cell_type": "markdown",
      "metadata": {
        "id": "hGUrcdPyr4K8"
      },
      "source": [
        "**Memory profiling** "
      ]
    },
    {
      "cell_type": "code",
      "metadata": {
        "id": "kurZF8o2dimf"
      },
      "source": [
        "mem_log = []\n",
        "for u0_, xi_, u_ in train_loader:\n",
        "    input = u0_.to(device), xi_.to(device)\n",
        "    break\n",
        "try:\n",
        "    mem_log.extend(log_mem(model, input, exp='baseline'))\n",
        "except Exception as e:\n",
        "    print(f'log_mem failed because of {e}')\n",
        "    \n",
        "df = pd.DataFrame(mem_log)\n",
        "plot_mem(df, exps=['baseline'])"
      ],
      "execution_count": null,
      "outputs": []
    },
    {
      "cell_type": "markdown",
      "metadata": {
        "id": "vAyQKWMnysL9"
      },
      "source": [
        "**Super-resolution demonstration**\n",
        "\n",
        "We start by loading a dataset with a finer spatial resolution"
      ]
    },
    {
      "cell_type": "code",
      "metadata": {
        "id": "hn8FqaNkRP5T"
      },
      "source": [
        "batch_size = 20\n",
        "ntest = 200\n",
        "\n",
        "data = scipy.io.loadmat('../drive/MyDrive/data_phi41+/Phi41+_super_xi_u0_{}.mat'.format(ntest))\n",
        "O_X, O_T, W, Sol = data['X'], data['T'], data['W'], data['sol']\n",
        "xi = torch.from_numpy(W.astype(np.float32))\n",
        "data = torch.from_numpy(Sol.astype(np.float32))\n",
        "\n",
        "_, test_loader = dataloader_nspde_1d(u=data, xi=xi, ntrain=100, ntest=200, batch_size=batch_size, \n",
        "                                     dim_x=512, dataset='phi41')"
      ],
      "execution_count": null,
      "outputs": []
    },
    {
      "cell_type": "markdown",
      "source": [
        "Then we load a model which has been trained on a lower resolution"
      ],
      "metadata": {
        "id": "eox8MoBM49Mu"
      }
    },
    {
      "cell_type": "code",
      "metadata": {
        "id": "x2lW4bT_yBNA",
        "colab": {
          "base_uri": "https://localhost:8080/"
        },
        "outputId": "c762059a-78c0-4d61-f307-d6ad4f1069c3"
      },
      "source": [
        "model = NeuralSPDE(dim=1, in_channels=1, noise_channels=1, hidden_channels=16, \n",
        "                   n_iter=4, modes1=32, modes2=32).cuda()\n",
        "model.load_state_dict(torch.load('../drive/MyDrive/data_phi41+/nspde_u0_xi_1200_500epochs.pth'))"
      ],
      "execution_count": null,
      "outputs": [
        {
          "output_type": "execute_result",
          "data": {
            "text/plain": [
              "<All keys matched successfully>"
            ]
          },
          "metadata": {},
          "execution_count": 64
        }
      ]
    },
    {
      "cell_type": "markdown",
      "source": [
        "Finally we evaluate the model on the finer resolution dataset"
      ],
      "metadata": {
        "id": "xJ3eknul5FBY"
      }
    },
    {
      "cell_type": "code",
      "source": [
        "myloss = LpLoss(size_average=False)\n",
        "test_loss = 0.\n",
        "with torch.no_grad():\n",
        "    for u0_, xi_, u_ in test_loader:    \n",
        "        loss = 0.       \n",
        "        u0_, xi_, u_ = u0_.to(device), xi_.to(device), u_.to(device)\n",
        "        u_pred = model(u0_, xi_)\n",
        "        loss = myloss(u_pred[...,1:].reshape(batch_size, -1), u_[...,1:].reshape(batch_size, -1))\n",
        "        test_loss += loss.item()\n",
        "print('Super-resolution test Loss {:.6f} with {} spatial points'.format(test_loss / ntest, \n",
        "                                                                        xi_.shape[-2]))"
      ],
      "metadata": {
        "colab": {
          "base_uri": "https://localhost:8080/"
        },
        "id": "Y-28_4Wu5Dga",
        "outputId": "816ea187-4990-4200-952a-e362d6c6ec2e"
      },
      "execution_count": null,
      "outputs": [
        {
          "output_type": "stream",
          "name": "stdout",
          "text": [
            "Super-resolution test Loss 0.005817 with 512 spatial points\n"
          ]
        }
      ]
    },
    {
      "cell_type": "markdown",
      "source": [
        "# 2) Baselines\n",
        "***"
      ],
      "metadata": {
        "id": "7Ygs_ELDQ57A"
      }
    },
    {
      "cell_type": "markdown",
      "metadata": {
        "id": "Q0_jmj60HpNw"
      },
      "source": [
        "### FNO (space-time FFT)"
      ]
    },
    {
      "cell_type": "code",
      "metadata": {
        "id": "1Brb_By8IV-x"
      },
      "source": [
        "from baselines.FNO1D import FNO_space1D_time, dataloader_fno_1d_xi, dataloader_fno_1d_u0, train_fno_1d"
      ],
      "execution_count": null,
      "outputs": []
    },
    {
      "cell_type": "markdown",
      "source": [
        "**Get the dataloaders**\n",
        "\n",
        "There are two different dataloaders. One is when we want to learn the map $u_0|_{O_X}\\mapsto u|_{O_X\\times O_T}$. The other one is when we want to learn the map $\\xi|_{O_X\\times O_T}\\mapsto u|_{O_X\\times O_T}$"
      ],
      "metadata": {
        "id": "6O8i6GWQ7fVR"
      }
    },
    {
      "cell_type": "code",
      "source": [
        "train_loader, test_loader = dataloader_fno_1d_xi(u=data, xi=xi, ntrain=1000, \n",
        "                                                 ntest=200, T=51, sub_t=1, batch_size=20, \n",
        "                                                 dim_x=128, dataset='phi41')"
      ],
      "metadata": {
        "id": "V2VYzYFx7YCH"
      },
      "execution_count": null,
      "outputs": []
    },
    {
      "cell_type": "code",
      "source": [
        "# train_loader, test_loader = dataloader_fno_1d_u0(u=data, ntrain=1000, \n",
        "#                                                  ntest=200, T=51, sub_t=1, batch_size=20, \n",
        "#                                                  dim_x=128, dataset='phi41')"
      ],
      "metadata": {
        "id": "M9fKP3Uk9coe"
      },
      "execution_count": null,
      "outputs": []
    },
    {
      "cell_type": "markdown",
      "source": [
        "**Define an FNO model**\n",
        "\n",
        "One needs to specify the number of observations in time for the input. When the input is the forcing $T>1$ (e.g. here $T=51$) and when the input is the initial condition $T=1$"
      ],
      "metadata": {
        "id": "Z5rpa5ae7j20"
      }
    },
    {
      "cell_type": "code",
      "source": [
        "model = FNO_space1D_time(modes1=32, modes2=24, width=32, T=1, L=4).cuda()"
      ],
      "metadata": {
        "id": "G_aPKqkh7mdk"
      },
      "execution_count": null,
      "outputs": []
    },
    {
      "cell_type": "code",
      "source": [
        "print('The model has {} parameters'. format(count_params(model)))"
      ],
      "metadata": {
        "id": "iHHlYQBM7op_"
      },
      "execution_count": null,
      "outputs": []
    },
    {
      "cell_type": "markdown",
      "source": [
        "**Train the FNO model**"
      ],
      "metadata": {
        "id": "z81bM6qb7pVV"
      }
    },
    {
      "cell_type": "code",
      "source": [
        "loss = LpLoss(size_average=False)"
      ],
      "metadata": {
        "id": "bJ5MXtyL7pp-"
      },
      "execution_count": null,
      "outputs": []
    },
    {
      "cell_type": "code",
      "source": [
        "model, losses_train, losses_test = train_fno_1d(model, train_loader, test_loader, \n",
        "                                                device, loss, batch_size=20, epochs=5000, \n",
        "                                                learning_rate=0.001, scheduler_step=100, \n",
        "                                                scheduler_gamma=0.5, print_every=5)"
      ],
      "metadata": {
        "id": "i_UD-8de7ukl"
      },
      "execution_count": null,
      "outputs": []
    },
    {
      "cell_type": "markdown",
      "metadata": {
        "id": "jFy8Ibdp3Ar1"
      },
      "source": [
        "**Memory profiling**"
      ]
    },
    {
      "cell_type": "code",
      "metadata": {
        "id": "_FnKIQJO290A"
      },
      "source": [
        "mem_log = []\n",
        "for xi_, u_ in train_loader:\n",
        "    input = xi_.to(device)\n",
        "    break\n",
        "try:\n",
        "    mem_log.extend(log_mem(model, input, exp='baseline', model_type='FNO'))\n",
        "except Exception as e:\n",
        "    print(f'log_mem failed because of {e}')\n",
        "    \n",
        "df = pd.DataFrame(mem_log)\n",
        "plot_mem(df, exps=['baseline'])"
      ],
      "execution_count": null,
      "outputs": []
    },
    {
      "cell_type": "markdown",
      "metadata": {
        "id": "hqQnMsvoalrd"
      },
      "source": [
        "###NCDE"
      ]
    },
    {
      "cell_type": "code",
      "metadata": {
        "id": "pOgEaME6Pqwk"
      },
      "source": [
        "from baselines.NCDE import NeuralCDE, dataloader_ncde_1d, train_ncde_1d"
      ],
      "execution_count": null,
      "outputs": []
    },
    {
      "cell_type": "markdown",
      "source": [
        "**Get the dataloaders**"
      ],
      "metadata": {
        "id": "fpouM5bd-MVA"
      }
    },
    {
      "cell_type": "code",
      "source": [
        "dim_x = 128\n",
        "train_loader, test_loader, normalizer = dataloader_ncde_1d(u=data, xi=xi, ntrain=1000, \n",
        "                                                           ntest=200, T=51, sub_t=1, \n",
        "                                                           batch_size=20, dim_x=dim_x, \n",
        "                                                           normalizer=True, interpolation='linear',\n",
        "                                                           dataset='phi41')"
      ],
      "metadata": {
        "id": "0H3hgocX-MVA"
      },
      "execution_count": null,
      "outputs": []
    },
    {
      "cell_type": "markdown",
      "source": [
        "**Define an NCDE model**\n"
      ],
      "metadata": {
        "id": "N62531Ze-MVB"
      }
    },
    {
      "cell_type": "code",
      "source": [
        "model = NeuralCDE(input_channels=dim_x+1, hidden_channels=16, output_channels=dim_x, \n",
        "                  interpolation='linear').cuda()"
      ],
      "metadata": {
        "id": "7BGWbKf4-MVB"
      },
      "execution_count": null,
      "outputs": []
    },
    {
      "cell_type": "code",
      "source": [
        "print('The model has {} parameters'. format(count_params(model)))"
      ],
      "metadata": {
        "id": "q9j7rabe-MVB"
      },
      "execution_count": null,
      "outputs": []
    },
    {
      "cell_type": "markdown",
      "source": [
        "**Train the NCDE model**"
      ],
      "metadata": {
        "id": "YgsBzGx9-MVB"
      }
    },
    {
      "cell_type": "code",
      "source": [
        "loss = LpLoss(size_average=False)"
      ],
      "metadata": {
        "id": "xJ_n_r-B-MVB"
      },
      "execution_count": null,
      "outputs": []
    },
    {
      "cell_type": "code",
      "source": [
        "model, losses_train, losses_test = train_ncde_1d(model, train_loader, test_loader, normalizer,\n",
        "                                                device, loss, batch_size=20, epochs=5000, \n",
        "                                                learning_rate=0.001, scheduler_step=100, \n",
        "                                                scheduler_gamma=0.5, print_every=1)"
      ],
      "metadata": {
        "id": "zjlfa3qk-MVB"
      },
      "execution_count": null,
      "outputs": []
    },
    {
      "cell_type": "code",
      "metadata": {
        "id": "RBtNj0P_2jDp"
      },
      "source": [
        "mem_log = []\n",
        "for u0_, xi_, u_ in train_loader:\n",
        "    input = u0_.to(device), xi_.to(device)\n",
        "    break\n",
        "try:\n",
        "    mem_log.extend(log_mem(model, input, exp='baseline'))\n",
        "except Exception as e:\n",
        "    print(f'log_mem failed because of {e}')\n",
        "\n",
        "df = pd.DataFrame(mem_log)\n",
        "plot_mem(df, exps=['baseline'])"
      ],
      "execution_count": null,
      "outputs": []
    },
    {
      "cell_type": "markdown",
      "metadata": {
        "id": "0BmNjo-sKM-Z"
      },
      "source": [
        "#NRDE"
      ]
    },
    {
      "cell_type": "code",
      "metadata": {
        "id": "jsqGjCcxKNRP"
      },
      "source": [
        "from baselines.NRDE import NeuralRDE, dataloader_nrde_1d, train_nrde_1d"
      ],
      "execution_count": null,
      "outputs": []
    },
    {
      "cell_type": "code",
      "metadata": {
        "id": "c0nILQfLL5Jk"
      },
      "source": [
        "import signatory"
      ],
      "execution_count": null,
      "outputs": []
    },
    {
      "cell_type": "code",
      "metadata": {
        "id": "K_fNtTbrKXR2"
      },
      "source": [
        "print(count_params(model))\n",
        "optimizer = torch.optim.Adam(model.parameters(), lr=0.001, weight_decay=1e-4)\n",
        "scheduler = torch.optim.lr_scheduler.StepLR(optimizer, step_size=100, gamma=0.5)"
      ],
      "execution_count": null,
      "outputs": []
    },
    {
      "cell_type": "markdown",
      "source": [
        "**Get the dataloaders**"
      ],
      "metadata": {
        "id": "1cRXW2ylDGI9"
      }
    },
    {
      "cell_type": "code",
      "source": [
        "dim_x = 128\n",
        "train_load, test_load, I, noise_size, norm = dataloader_nrde_1d(u=data, xi=xi, ntrain=1000, \n",
        "                                                                ntest=200, T=51, sub_t=1, \n",
        "                                                                batch_size=20, dim_x=dim_x, \n",
        "                                                                depth=2, window_length=10, \n",
        "                                                                normalizer=True, \n",
        "                                                                interpolation='linear',\n",
        "                                                                dataset='phi41')"
      ],
      "metadata": {
        "id": "MbQBsLM7DGI9"
      },
      "execution_count": null,
      "outputs": []
    },
    {
      "cell_type": "markdown",
      "source": [
        "**Define an NRDE model**\n"
      ],
      "metadata": {
        "id": "ZqDwHuh6DGI9"
      }
    },
    {
      "cell_type": "code",
      "source": [
        "model = NeuralRDE(control_channels=noise_size, input_channels=dim_x, \n",
        "                  hidden_channels=2, output_channels=dim_x, interval=I, \n",
        "                  interpolation='linear').cuda()"
      ],
      "metadata": {
        "id": "LEluWgaaDGI9"
      },
      "execution_count": null,
      "outputs": []
    },
    {
      "cell_type": "code",
      "source": [
        "print('The model has {} parameters'. format(count_params(model)))"
      ],
      "metadata": {
        "id": "y7mEr0dXDGI9"
      },
      "execution_count": null,
      "outputs": []
    },
    {
      "cell_type": "markdown",
      "source": [
        "**Train the NRDE model**"
      ],
      "metadata": {
        "id": "Yn41djgFDGI-"
      }
    },
    {
      "cell_type": "code",
      "source": [
        "loss = LpLoss(size_average=False)"
      ],
      "metadata": {
        "id": "jUwdFbfJDGI-"
      },
      "execution_count": null,
      "outputs": []
    },
    {
      "cell_type": "code",
      "source": [
        "model, losses_train, losses_test = train_nrde_1d(model, train_load, test_load, norm,\n",
        "                                                device, loss, batch_size=20, epochs=5000, \n",
        "                                                learning_rate=0.001, scheduler_step=100, \n",
        "                                                scheduler_gamma=0.5, print_every=1)"
      ],
      "metadata": {
        "id": "ScBVD1knDGI-"
      },
      "execution_count": null,
      "outputs": []
    },
    {
      "cell_type": "markdown",
      "metadata": {
        "id": "ZlnGq712cEK3"
      },
      "source": [
        "### NCDE-FNO"
      ]
    },
    {
      "cell_type": "code",
      "metadata": {
        "id": "kahPuu-VsXOT"
      },
      "source": [
        "from baselines.NCDEFNO_1D import NeuralCDE, dataloader_ncdeinf_1d, train_ncdeinf_1d"
      ],
      "execution_count": null,
      "outputs": []
    },
    {
      "cell_type": "markdown",
      "source": [
        "**Get the dataloaders**"
      ],
      "metadata": {
        "id": "Z_SCrBInFWNr"
      }
    },
    {
      "cell_type": "code",
      "source": [
        "train_loader, test_loader = dataloader_ncdeinf_1d(data, xi, ntrain=1000, ntest=200, T=51, \n",
        "                                                  sub_t=1, batch_size=20, dim_x=128, \n",
        "                                                  interpolation='linear', dataset=None)"
      ],
      "metadata": {
        "id": "-GmaBHZVFWNr"
      },
      "execution_count": null,
      "outputs": []
    },
    {
      "cell_type": "markdown",
      "source": [
        "**Define an NCDE-FNO model**\n"
      ],
      "metadata": {
        "id": "MJe7Z3OHFWNr"
      }
    },
    {
      "cell_type": "code",
      "source": [
        "model = NeuralCDE(data_size=1, noise_size=1, hidden_channels=32, output_channels=1, \n",
        "                  interpolation='linear').cuda()"
      ],
      "metadata": {
        "id": "Jxzhi-nYFWNr"
      },
      "execution_count": null,
      "outputs": []
    },
    {
      "cell_type": "code",
      "source": [
        "print('The model has {} parameters'. format(count_params(model)))"
      ],
      "metadata": {
        "id": "8F2MOFArFWNr"
      },
      "execution_count": null,
      "outputs": []
    },
    {
      "cell_type": "markdown",
      "source": [
        "**Train the NCDE-FNO model**"
      ],
      "metadata": {
        "id": "HzP91bAjFWNs"
      }
    },
    {
      "cell_type": "code",
      "source": [
        "loss = LpLoss(size_average=False)"
      ],
      "metadata": {
        "id": "9FHXg65_FWNs"
      },
      "execution_count": null,
      "outputs": []
    },
    {
      "cell_type": "code",
      "source": [
        "model, losses_train, losses_test = train_ncdeinf_1d(model, train_loader, test_loader, \n",
        "                                                    device, loss, batch_size=20, epochs=5000, \n",
        "                                                    learning_rate=0.001, scheduler_step=100, \n",
        "                                                    scheduler_gamma=0.5, print_every=1)"
      ],
      "metadata": {
        "id": "DnAgVw_JFWNs"
      },
      "execution_count": null,
      "outputs": []
    },
    {
      "cell_type": "markdown",
      "metadata": {
        "id": "tHhUo_kW2MuY"
      },
      "source": [
        "**Memory profiling**"
      ]
    },
    {
      "cell_type": "code",
      "metadata": {
        "id": "8e1vOQgS2Imv"
      },
      "source": [
        "mem_log = []\n",
        "for u0_, xi_, u_ in train_loader:\n",
        "    input = u0_.to(device), xi_.to(device)\n",
        "    break\n",
        "try:\n",
        "    mem_log.extend(log_mem(model, input, exp='baseline'))\n",
        "except Exception as e:\n",
        "    print(f'log_mem failed because of {e}')\n",
        "\n",
        "df = pd.DataFrame(mem_log)\n",
        "plot_mem(df, exps=['baseline'])"
      ],
      "execution_count": null,
      "outputs": []
    },
    {
      "cell_type": "markdown",
      "metadata": {
        "id": "ElwqsKPPfoG8"
      },
      "source": [
        "### DeepONet"
      ]
    },
    {
      "cell_type": "code",
      "source": [
        "from baselines.deepOnet import DeepONetCP, dataloader_deeponet_1d_u0, train_deepOnet_1d"
      ],
      "metadata": {
        "id": "hk_9VvoaA2MD"
      },
      "execution_count": null,
      "outputs": []
    },
    {
      "cell_type": "markdown",
      "source": [
        "**Get the dataloaders**"
      ],
      "metadata": {
        "id": "QU8N5wNmAwPU"
      }
    },
    {
      "cell_type": "code",
      "source": [
        "train_loader, test_loader, grid = dataloader_deeponet_1d_xi(data, xi, ntrain=1000, ntest=200, \n",
        "                                                            T=51, sub_t=1, batch_size=20, \n",
        "                                                            dim_x=128, normalizer=False, \n",
        "                                                            dataset=None)"
      ],
      "metadata": {
        "id": "kutqrr6aAwPV"
      },
      "execution_count": null,
      "outputs": []
    },
    {
      "cell_type": "code",
      "source": [
        "train_loader, test_loader, grid = dataloader_deeponet_1d_u0(data, ntrain=1000, ntest=200, \n",
        "                                                            T=51, sub_t=1, batch_size=20, \n",
        "                                                            dim_x=128, normalizer=False, \n",
        "                                                            dataset=None)"
      ],
      "metadata": {
        "id": "dMeitdXlBFlf"
      },
      "execution_count": null,
      "outputs": []
    },
    {
      "cell_type": "markdown",
      "source": [
        "**Define an deepOnet model**\n"
      ],
      "metadata": {
        "id": "xZL4qCAfAwPV"
      }
    },
    {
      "cell_type": "code",
      "source": [
        "model = DeepONetCP(branch_layer=[128] + [300, 200],\n",
        "                    trunk_layer=[2] + [100, 200, 200]).to(device)"
      ],
      "metadata": {
        "id": "NEoxgstCAwPV"
      },
      "execution_count": null,
      "outputs": []
    },
    {
      "cell_type": "code",
      "source": [
        "print('The model has {} parameters'. format(count_params(model)))"
      ],
      "metadata": {
        "id": "3kT4JqJ9AwPV"
      },
      "execution_count": null,
      "outputs": []
    },
    {
      "cell_type": "markdown",
      "source": [
        "**Train the deepOnet model**"
      ],
      "metadata": {
        "id": "HXD9-qaAAwPV"
      }
    },
    {
      "cell_type": "code",
      "source": [
        "loss = LpLoss(size_average=False)"
      ],
      "metadata": {
        "id": "MU9VfttaAwPV"
      },
      "execution_count": null,
      "outputs": []
    },
    {
      "cell_type": "code",
      "source": [
        "model, losses_train, losses_test = train_deepOnet_1d(model, train_loader, test_loader, grid,\n",
        "                                                    normalizer, device, loss, batch_size=20, \n",
        "                                                    epochs=500, learning_rate=0.001, \n",
        "                                                    scheduler_step=100, scheduler_gamma=0.5, \n",
        "                                                    print_every=1)"
      ],
      "metadata": {
        "id": "iw3u8A3mAwPW"
      },
      "execution_count": null,
      "outputs": []
    }
  ]
}